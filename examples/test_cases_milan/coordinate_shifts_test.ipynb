{
 "cells": [
  {
   "cell_type": "markdown",
   "id": "ca4cafc1",
   "metadata": {},
   "source": [
    "# Coordinate Shifts Parameter Estimation\n",
    "\n",
    "This notebook demonstrates a challenging test case for parameter estimation using the `LorenzParameterEstimation` package: learning coordinate shifts in the Lorenz 63 system.\n",
    "\n",
    "## Problem Description\n",
    "\n",
    "We modify the standard Lorenz 63 system by introducing coordinate shifts:\n",
    "- x → x - x_s\n",
    "- y → y - y_s  \n",
    "- z → z - z_s\n",
    "\n",
    "The goal is to learn the shift parameters (x_s, y_s, z_s) using the package's Enzyme.jl integration when starting from unstable initial conditions `randn(3) .+ (0, 0, 10)`. This transforms the problem from an initial condition problem to a climate problem.\n",
    "\n",
    "**Key insight**: The shifts provide smooth gradients (constants in parameter space), making this an ideal test case for gradient-based optimization and showcasing the package's capabilities."
   ]
  },
  {
   "cell_type": "markdown",
   "id": "8981cb5c",
   "metadata": {},
   "source": [
    "## Setup and Imports"
   ]
  },
  {
   "cell_type": "code",
   "execution_count": null,
   "id": "4ca6642a",
   "metadata": {},
   "outputs": [
    {
     "name": "stderr",
     "output_type": "stream",
     "text": [
      "\u001b[32m\u001b[1m  Activating\u001b[22m\u001b[39m project at `~/master_thesis/LorenzParameterEstimation`\n"
     ]
    }
   ],
   "source": [
    "# Activate the local LorenzParameterEstimation package\n",
    "import Pkg\n",
    "Pkg.activate(\"../../\")  # Activate the main project environment\n",
    "Pkg.instantiate()  # Ensure all dependencies are installed\n",
    "\n",
    "using DifferentialEquations\n",
    "using Plots\n",
    "using Random\n",
    "using LinearAlgebra\n",
    "using Statistics\n",
    "using Enzyme\n",
    "\n",
    "using LorenzParameterEstimation\n",
    "\n",
    "# Set random seed for reproducibility\n",
    "Random.seed!(42)"
   ]
  },
  {
   "cell_type": "markdown",
   "id": "c9c3f935",
   "metadata": {},
   "source": [
    "## Base System Setup\n",
    "\n",
    "First, let's use the package's standard parameters and utilities."
   ]
  },
  {
   "cell_type": "code",
   "execution_count": null,
   "id": "e05bef22",
   "metadata": {},
   "outputs": [],
   "source": [
    "base_params = classic_params()\n",
    "println(\"Base params: $base_params\")\n",
    "\n",
    "# Add coordinate shifts: x_s=2.0, y_s=-1.5, z_s=3.0\n",
    "shifted_params = with_coordinate_shifts(base_params, 2.0, -1.5, 3.0)\n",
    "println(\"Shifted params: $shifted_params\")\n",
    "\n",
    "# Test parameter utilities\n",
    "parameter_summary(base_params)\n",
    "println()\n",
    "parameter_summary(shifted_params)"
   ]
  }
 ],
 "metadata": {
  "kernelspec": {
   "display_name": "Julia 1.11.5",
   "language": "julia",
   "name": "julia-1.11"
  },
  "language_info": {
   "file_extension": ".jl",
   "mimetype": "application/julia",
   "name": "julia",
   "version": "1.11.5"
  }
 },
 "nbformat": 4,
 "nbformat_minor": 5
}
